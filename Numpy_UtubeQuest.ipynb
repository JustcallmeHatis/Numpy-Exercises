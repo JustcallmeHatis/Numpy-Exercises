{
 "cells": [
  {
   "cell_type": "markdown",
   "id": "d7efd087-b047-4d96-bcae-179aadf55e67",
   "metadata": {},
   "source": [
    "Soru 1: (10, 15, 30, 45, 60) degerlerine sahip numpy dizisi olusturunuz"
   ]
  },
  {
   "cell_type": "code",
   "execution_count": 3,
   "id": "ba665002-f1b4-41b5-b949-051e29512dc7",
   "metadata": {},
   "outputs": [
    {
     "data": {
      "text/plain": [
       "array([10, 15, 30, 45, 60])"
      ]
     },
     "execution_count": 3,
     "metadata": {},
     "output_type": "execute_result"
    }
   ],
   "source": [
    "import numpy as np\n",
    "myArr = np.asarray([10, 15, 30, 45, 60])\n",
    "myArr\n"
   ]
  },
  {
   "cell_type": "markdown",
   "id": "dbd95c91-5110-42f0-86b4-466013e8f931",
   "metadata": {},
   "source": [
    "Soru 2: 5-15 arasindaki sayilarla numpy dizisi olusturunuz"
   ]
  },
  {
   "cell_type": "code",
   "execution_count": 4,
   "id": "da9ee634-d986-49af-a230-a36981eb8428",
   "metadata": {},
   "outputs": [
    {
     "data": {
      "text/plain": [
       "array([ 5,  6,  7,  8,  9, 10, 11, 12, 13, 14])"
      ]
     },
     "execution_count": 4,
     "metadata": {},
     "output_type": "execute_result"
    }
   ],
   "source": [
    "my_Arr = np.arange(5, 15)\n",
    "my_Arr\n"
   ]
  },
  {
   "cell_type": "markdown",
   "id": "38573d4f-70a9-4364-a0bd-add95b37e7dd",
   "metadata": {},
   "source": [
    "Soru 3: 50-100 arasinda 5'er 5'er artan sayilarla numpy dizisi olusturunuz"
   ]
  },
  {
   "cell_type": "code",
   "execution_count": 5,
   "id": "6d4f0a8b-e729-4f3e-86cd-03528e4721ed",
   "metadata": {},
   "outputs": [
    {
     "data": {
      "text/plain": [
       "array([50, 55, 60, 65, 70, 75, 80, 85, 90, 95])"
      ]
     },
     "execution_count": 5,
     "metadata": {},
     "output_type": "execute_result"
    }
   ],
   "source": [
    "my_Arr = np.arange(50, 100, 5)\n",
    "my_Arr\n"
   ]
  },
  {
   "cell_type": "markdown",
   "id": "ca9b6313-fb9d-4061-aa23-043a5ec7f899",
   "metadata": {},
   "source": [
    "Soru 4: 10 elemanli 0lardan olusan bir dizi olusturunuz"
   ]
  },
  {
   "cell_type": "code",
   "execution_count": 6,
   "id": "7326ab3e-5701-4904-9bdb-f7959636c709",
   "metadata": {},
   "outputs": [
    {
     "data": {
      "text/plain": [
       "array([0., 0., 0., 0., 0., 0., 0., 0., 0., 0.])"
      ]
     },
     "execution_count": 6,
     "metadata": {},
     "output_type": "execute_result"
    }
   ],
   "source": [
    "Arr = np.zeros(10)\n",
    "Arr\n"
   ]
  },
  {
   "cell_type": "markdown",
   "id": "f615bfaa-a1a1-4558-aead-cd4e18c0b6fc",
   "metadata": {},
   "source": [
    "Soru 5: 10 elemanli 1lerden olusan bir sayi dizisi olusturun"
   ]
  },
  {
   "cell_type": "code",
   "execution_count": 7,
   "id": "3f84a3d3-a814-4346-b247-e8c18d669cf6",
   "metadata": {},
   "outputs": [
    {
     "data": {
      "text/plain": [
       "array([1., 1., 1., 1., 1., 1., 1., 1., 1., 1.])"
      ]
     },
     "execution_count": 7,
     "metadata": {},
     "output_type": "execute_result"
    }
   ],
   "source": [
    "arr = np.ones(10)\n",
    "arr\n"
   ]
  },
  {
   "cell_type": "markdown",
   "id": "7ed7d230-889c-4af3-a25a-180ef6639ece",
   "metadata": {},
   "source": [
    "Soru 6: 0-100 arasinda esit aralikli 5 sayi uretin"
   ]
  },
  {
   "cell_type": "code",
   "execution_count": 10,
   "id": "0ad8b9bd-be75-4f67-a588-79c620d495d8",
   "metadata": {},
   "outputs": [
    {
     "data": {
      "text/plain": [
       "array([  0.,  25.,  50.,  75., 100.])"
      ]
     },
     "execution_count": 10,
     "metadata": {},
     "output_type": "execute_result"
    }
   ],
   "source": [
    "lin_arr = np.linspace(0, 100, 5)\n",
    "lin_arr\n"
   ]
  },
  {
   "cell_type": "markdown",
   "id": "9e95ea78-81fe-4630-9f1c-c0dd1415a4a3",
   "metadata": {},
   "source": [
    "Soru 7: 10-30 arasinda rastgele 30 tane tam sayi uretin"
   ]
  },
  {
   "cell_type": "code",
   "execution_count": 18,
   "id": "ba20a7b6-2754-41e6-bb6c-0022eb5c0c4f",
   "metadata": {},
   "outputs": [
    {
     "data": {
      "text/plain": [
       "array([13, 15, 15, 17, 28, 15, 21, 29, 16, 14, 13, 13, 22, 11, 18, 18, 29,\n",
       "       16, 14, 13, 26, 26, 29, 12, 26, 25, 21, 27, 14, 11])"
      ]
     },
     "execution_count": 18,
     "metadata": {},
     "output_type": "execute_result"
    }
   ],
   "source": [
    "import random\n",
    "\n",
    "ran_arr = np.random.randint(10, 30, 30)\n",
    "ran_arr\n"
   ]
  },
  {
   "cell_type": "markdown",
   "id": "cfa36612-cfb5-4bc2-bd95-55468c7c5020",
   "metadata": {},
   "source": [
    "Soru 8: -1 ile 1 arasinda 10 adet sayi uretin "
   ]
  },
  {
   "cell_type": "code",
   "execution_count": 41,
   "id": "430f7063-d92f-4815-82d9-f4be479831ce",
   "metadata": {},
   "outputs": [
    {
     "name": "stdout",
     "output_type": "stream",
     "text": [
      "my answer: [-1.         -0.77777778 -0.55555556 -0.33333333 -0.11111111  0.11111111\n",
      "  0.33333333  0.55555556  0.77777778  1.        ]\n",
      "result: [-1.32111826 -2.9026715  -0.12738723  0.06345178  0.01254331 -1.27928192\n",
      " -1.62818092 -0.18030424  0.33725436  0.1587875 ]\n"
     ]
    }
   ],
   "source": [
    "neg_arr = np.linspace(-1, 1, 10)\n",
    "print(\"my answer:\", neg_arr)\n",
    "\n",
    "# cevaplarda su sekilde cozmus: (soruda belirtmemis ama aslinda random ile yapilmasini istemis)\n",
    "# random.rand methodunun 0 - 1 arasinda rastgele degerler atadigini soylemis\n",
    "# -1 ile 1 arasinda bir deger uretmek icin random.randn diye bir method varmis\n",
    "# dolayisiyla cozum: \n",
    "\n",
    "randn_arr = np.random.randn(10)\n",
    "print(\"result:\", randn_arr)\n"
   ]
  },
  {
   "cell_type": "markdown",
   "id": "2e4274f2-1c6a-4d13-ab14-dfcdb37a567c",
   "metadata": {},
   "source": [
    "Soru 9: (3x5) boyutlarinda 10-50 arasinda rastgele bir matris olustur"
   ]
  },
  {
   "cell_type": "code",
   "execution_count": 99,
   "id": "3ab32421-fa05-4961-8301-bc9f6efb983b",
   "metadata": {},
   "outputs": [
    {
     "name": "stdout",
     "output_type": "stream",
     "text": [
      "my answer:\n",
      " [[30 34 41 16 34]\n",
      " [21 24 45 38 14]\n",
      " [28 37 25 34 30]]\n",
      "result:\n",
      " [[13 29 24 17 21]\n",
      " [31 13 16 38 31]\n",
      " [36 25 20 37 47]]\n"
     ]
    }
   ],
   "source": [
    "ran_mat = np.random.randint(10, 50, (3, 5))\n",
    "\n",
    "print(\"my answer:\\n\", ran_mat)\n",
    "\n",
    "#cevaplarda asagidaki gibi cozmus:\n",
    "\n",
    "rand_ans = np.random.randint(10, 50, 15).reshape(3, 5)\n",
    "# 3, 5 olarak reshape edebilmek icin 15'i girdi\n",
    "\n",
    "print(\"result:\\n\", rand_ans)\n"
   ]
  },
  {
   "cell_type": "markdown",
   "id": "b8cdaf50-fd7a-4b0c-8b8c-08e551cdca5d",
   "metadata": {},
   "source": [
    "Soru 10: Uretilen matrisin satir ve sutun sayilari toplamlarini hesaplayiniz"
   ]
  },
  {
   "cell_type": "code",
   "execution_count": 100,
   "id": "02dcc722-f60d-45a2-a9e5-10998b45b17e",
   "metadata": {},
   "outputs": [
    {
     "name": "stdout",
     "output_type": "stream",
     "text": [
      "[104 129 165]\n",
      "[80 67 60 92 99]\n"
     ]
    }
   ],
   "source": [
    "rowTotal = rand_ans.sum(axis = 1)\n",
    "colTotal = rand_ans.sum(axis = 0)\n",
    "\n",
    "print(rowTotal)\n",
    "print(colTotal)\n"
   ]
  },
  {
   "cell_type": "markdown",
   "id": "47865da3-6a62-4902-85b9-50cc26348f31",
   "metadata": {},
   "source": [
    "Soru 11: Uretilen matrisin en buyuk, en kucuk ve ortalama degerleri nelerdir?"
   ]
  },
  {
   "cell_type": "code",
   "execution_count": 54,
   "id": "e4b0e03c-9259-44be-91a8-2f653b5ee136",
   "metadata": {},
   "outputs": [
    {
     "name": "stdout",
     "output_type": "stream",
     "text": [
      "49\n",
      "12\n",
      "28.466666666666665\n"
     ]
    }
   ],
   "source": [
    "print(rand_ans.max())\n",
    "\n",
    "print(rand_ans.min())\n",
    "\n",
    "print(rand_ans.mean())\n"
   ]
  },
  {
   "cell_type": "markdown",
   "id": "c7845656-2d66-4f9e-ba83-f81996d46973",
   "metadata": {},
   "source": [
    "Soru 12: Uretilen matrisin en buyuk degerinin indexi kactir?"
   ]
  },
  {
   "cell_type": "code",
   "execution_count": 102,
   "id": "49da7d31-eaf1-4da0-84f8-e1778e56c29e",
   "metadata": {},
   "outputs": [
    {
     "name": "stdout",
     "output_type": "stream",
     "text": [
      "14\n",
      "0\n"
     ]
    }
   ],
   "source": [
    "print(rand_ans.argmax())  # matrisin en buyuk degerinin indexini verir\n",
    "\n",
    "print(rand_ans.argmin())  # matrisin en kucuk degerinin indexini verir\n"
   ]
  },
  {
   "cell_type": "markdown",
   "id": "6be5fc90-09fc-43cc-87cf-86deaff2f0a9",
   "metadata": {},
   "source": [
    "Soru 13: 10-20 arasindaki sayilari iceren dizinin ilk 3 elemanini seciniz"
   ]
  },
  {
   "cell_type": "code",
   "execution_count": 57,
   "id": "52d5fd31-d920-4c81-9fa2-648d9b2459c0",
   "metadata": {},
   "outputs": [
    {
     "name": "stdout",
     "output_type": "stream",
     "text": [
      "[10 11 12]\n"
     ]
    }
   ],
   "source": [
    "tentw = np.arange(10, 20)\n",
    "\n",
    "print(tentw[:3])\n",
    "\n"
   ]
  },
  {
   "cell_type": "markdown",
   "id": "fd338257-dddc-4258-b8b1-82255e755e60",
   "metadata": {},
   "source": [
    "Soru 14: Uretilen dizinin elemanlarini tersten yazdirin"
   ]
  },
  {
   "cell_type": "code",
   "execution_count": 103,
   "id": "3a46bb4a-f4bb-4953-8279-d13c1ca7e534",
   "metadata": {},
   "outputs": [
    {
     "data": {
      "text/plain": [
       "array([19, 18, 17, 16, 15, 14, 13, 12, 11, 10])"
      ]
     },
     "execution_count": 103,
     "metadata": {},
     "output_type": "execute_result"
    }
   ],
   "source": [
    "tentw[::-1]\n",
    "\n",
    "\n"
   ]
  },
  {
   "cell_type": "markdown",
   "id": "777b328c-092f-4ea2-a683-b82e5b640d5c",
   "metadata": {},
   "source": [
    "Soru 15: Uretilen matrisin ilk satirini seciniz"
   ]
  },
  {
   "cell_type": "code",
   "execution_count": 112,
   "id": "8e8ae06c-6de5-4d0a-80c3-d000736f61e9",
   "metadata": {},
   "outputs": [
    {
     "name": "stdout",
     "output_type": "stream",
     "text": [
      "[[13 29 24 17 21]\n",
      " [31 13 16 38 31]\n",
      " [36 25 20 37 47]]\n",
      "[13 29 24 17 21]\n"
     ]
    }
   ],
   "source": [
    "#print(tentw)\n",
    "\n",
    "#print(tentw[0])\n",
    "\n",
    "print(rand_ans)\n",
    "\n",
    "print(rand_ans[0])\n"
   ]
  },
  {
   "cell_type": "markdown",
   "id": "1ab98810-5fd5-47a6-8530-7b7b25c69243",
   "metadata": {},
   "source": [
    "Soru 16: Uretilen matrisin 2. Satir 3. Sutunundaki elemani hangisidir? "
   ]
  },
  {
   "cell_type": "code",
   "execution_count": 121,
   "id": "3ace45ce-6231-4b2a-b8d6-9510d4fccf1d",
   "metadata": {},
   "outputs": [
    {
     "name": "stdout",
     "output_type": "stream",
     "text": [
      "16\n",
      "16\n"
     ]
    }
   ],
   "source": [
    "print(rand_ans[1][2])  # benim yazdigim\n",
    "\n",
    "print(rand_ans[1, 2])  # cevapta olan"
   ]
  },
  {
   "cell_type": "markdown",
   "id": "f4271fcf-b4c0-4866-98ad-6ea581c24618",
   "metadata": {},
   "source": [
    "Soru 17: Uretilen matrisin tum satirlardaki ilk elemanini seciniz"
   ]
  },
  {
   "cell_type": "code",
   "execution_count": 136,
   "id": "915d4702-674b-4d14-95a6-d59de99fdada",
   "metadata": {},
   "outputs": [
    {
     "name": "stdout",
     "output_type": "stream",
     "text": [
      "[13 31 36]\n",
      "[13 31 36]\n"
     ]
    }
   ],
   "source": [
    "# print(rand_ans)\n",
    "\n",
    "print(rand_ans[(0, 1, 2), (0, 0, 0)])\n",
    "\n",
    "# cevap:\n",
    "\n",
    "print(rand_ans[:, 0])\n"
   ]
  },
  {
   "cell_type": "markdown",
   "id": "f38917ba-9f2d-4e6c-a613-5de79e517c57",
   "metadata": {},
   "source": [
    "Soru 18: Uretilen matrisin her bir elemaninin karesini aliniz"
   ]
  },
  {
   "cell_type": "code",
   "execution_count": 123,
   "id": "616b8c41-ab77-4d27-98c8-a5a939293bfa",
   "metadata": {},
   "outputs": [
    {
     "data": {
      "text/plain": [
       "array([[ 169,  841,  576,  289,  441],\n",
       "       [ 961,  169,  256, 1444,  961],\n",
       "       [1296,  625,  400, 1369, 2209]], dtype=int32)"
      ]
     },
     "execution_count": 123,
     "metadata": {},
     "output_type": "execute_result"
    }
   ],
   "source": [
    "rand_ans**2\n"
   ]
  },
  {
   "cell_type": "markdown",
   "id": "9ca2ec74-db3c-4a5f-8ba2-400d7ce2552c",
   "metadata": {},
   "source": [
    "Soru 19: Uretilen matris elemanlarinin hangisi pozitif cift sayidir, araligi (-50, +50) arasi yapiniz"
   ]
  },
  {
   "cell_type": "code",
   "execution_count": 142,
   "id": "5ce768af-6da5-4b14-85b7-f3e7ea2c57d6",
   "metadata": {},
   "outputs": [
    {
     "name": "stdout",
     "output_type": "stream",
     "text": [
      "[[-48  -1  10  36  26]\n",
      " [ 32  41  30  -7  45]\n",
      " [  7 -38  25   1 -17]]\n",
      "[10 36 26 32 30]\n"
     ]
    }
   ],
   "source": [
    "\"\"\"matrix = np.arange(-50, 50)\n",
    "matrix\n",
    "matList = []\n",
    "for i in matrix:\n",
    "    if i % 2 == 0 and i > 0:\n",
    "        matList.append(i)\n",
    "        \n",
    "matList\"\"\"\n",
    "\n",
    "rand_ans = np.random.randint(-50, 50, 15).reshape(3, 5)\n",
    "\n",
    "result = rand_ans % 2 == 0  # boyle yapinca boolean dondurmus oldu\n",
    "\n",
    "# print(result)\n",
    "\n",
    "mod0 = rand_ans[rand_ans % 2 == 0]  # cift sayilari dondurdu bu sekilde\n",
    "# sadece True gelen degerlerin karsiliklarini dondurdu yani\n",
    "# print(res)\n",
    "print(rand_ans)\n",
    "\n",
    "res = mod0[mod0>0]\n",
    "\n",
    "print(res)\n"
   ]
  },
  {
   "cell_type": "code",
   "execution_count": null,
   "id": "d17f5920-78be-4c87-8c8a-753349ce9365",
   "metadata": {},
   "outputs": [],
   "source": []
  }
 ],
 "metadata": {
  "kernelspec": {
   "display_name": "Python 3 (ipykernel)",
   "language": "python",
   "name": "python3"
  },
  "language_info": {
   "codemirror_mode": {
    "name": "ipython",
    "version": 3
   },
   "file_extension": ".py",
   "mimetype": "text/x-python",
   "name": "python",
   "nbconvert_exporter": "python",
   "pygments_lexer": "ipython3",
   "version": "3.9.7"
  }
 },
 "nbformat": 4,
 "nbformat_minor": 5
}

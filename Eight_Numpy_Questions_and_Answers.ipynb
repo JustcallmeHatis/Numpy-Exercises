{
 "cells": [
  {
   "cell_type": "code",
   "execution_count": null,
   "metadata": {},
   "outputs": [],
   "source": [
    "Soru 1-Bir listeyi tek boyutlu bir diziye dönüştüren ve şekil ve boyut bilgisini ekrana basan kodu yazınız."
   ]
  },
  {
   "cell_type": "code",
   "execution_count": null,
   "metadata": {},
   "outputs": [],
   "source": [
    "Soru_2-   x = np.array([[[1,2,3],[1,2,3],[1,9,7]],[[1,2,3],[4,5,6],[4,5,6]],[[1,2,3],[4,5,6],[4,5,6]]]) yandaki listeyi üç boyutlu diziye çeviren ve  tüm boyutlardaki unique değerlerini döndüren bir program yazınız."
   ]
  },
  {
   "cell_type": "code",
   "execution_count": null,
   "metadata": {},
   "outputs": [],
   "source": [
    "Soru-3 Parametre olarak bir array alan ve bu arraye ilişkin boyut şekil ve veri tipi bilgisini aynı anda ekrana basan bir fonsiyon yazınız."
   ]
  },
  {
   "cell_type": "code",
   "execution_count": null,
   "metadata": {},
   "outputs": [],
   "source": [
    "Soru_4:   8*8 iki boyutlu ve ağaşıdaki paterni döndüren kodu yazınız.\n",
    "\n",
    "array([[0, 1, 0, 1, 0, 1, 0, 1],\n",
    "       [1, 0, 1, 0, 1, 0, 1, 0],\n",
    "       [0, 1, 0, 1, 0, 1, 0, 1],\n",
    "       [1, 0, 1, 0, 1, 0, 1, 0],\n",
    "       [0, 1, 0, 1, 0, 1, 0, 1],\n",
    "       [1, 0, 1, 0, 1, 0, 1, 0],\n",
    "       [0, 1, 0, 1, 0, 1, 0, 1],\n",
    "       [1, 0, 1, 0, 1, 0, 1, 0]])"
   ]
  },
  {
   "cell_type": "code",
   "execution_count": null,
   "metadata": {},
   "outputs": [],
   "source": [
    "Soru_5-   x = np.array([[0, 10, 20], [20, 30, 40]]) yandaki dizide 10 dan büyük değerlerin indexini döndüren kodu yazınız"
   ]
  },
  {
   "cell_type": "code",
   "execution_count": null,
   "metadata": {},
   "outputs": [],
   "source": [
    "soru-6-   3*5 iki boyutlu ve tüm değerlerinin 99 olduğu bir dizi döndüren kodu yazınız."
   ]
  },
  {
   "cell_type": "code",
   "execution_count": null,
   "metadata": {},
   "outputs": [],
   "source": [
    "soru-7  lineer artış gösteren değerleri  2*2*6 şeklinde ve üç boyutlu dizi olarak döndüren kodu yazınız."
   ]
  },
  {
   "cell_type": "code",
   "execution_count": null,
   "metadata": {},
   "outputs": [],
   "source": [
    "soru-8  x = np.array([[2, 4, 6], [6, 8, 10]], np.int32) yandaki arr deki 3 ve 5 inci index değerinindeki rakamları döndüren kodu yazınız."
   ]
  },
  {
   "cell_type": "code",
   "execution_count": 1,
   "metadata": {},
   "outputs": [],
   "source": [
    "import numpy as np"
   ]
  },
  {
   "cell_type": "code",
   "execution_count": 2,
   "metadata": {},
   "outputs": [
    {
     "name": "stdout",
     "output_type": "stream",
     "text": [
      "(6,)\n",
      "[1 2 3 4 5 6]\n"
     ]
    }
   ],
   "source": [
    "#Cevap 1:\n",
    "list1 = [1, 2, 3, 4, 5, 6]\n",
    "arr = np.array(list1)\n",
    "print(arr.shape)\n",
    "print(arr)\n"
   ]
  },
  {
   "cell_type": "code",
   "execution_count": 3,
   "metadata": {},
   "outputs": [
    {
     "data": {
      "text/plain": [
       "array([[[1, 2, 3],\n",
       "        [1, 2, 3],\n",
       "        [1, 9, 7]],\n",
       "\n",
       "       [[1, 2, 3],\n",
       "        [4, 5, 6],\n",
       "        [4, 5, 6]],\n",
       "\n",
       "       [[1, 2, 3],\n",
       "        [4, 5, 6],\n",
       "        [4, 5, 6]]])"
      ]
     },
     "execution_count": 3,
     "metadata": {},
     "output_type": "execute_result"
    }
   ],
   "source": [
    "#Soru 2: listeyi üç boyutlu diziye çeviren ve  tüm boyutlardaki unique değerlerini döndüren bir program yazınız.\n",
    "x = np.array([[[1,2,3],[1,2,3],[1,9,7]],[[1,2,3],[4,5,6],[4,5,6]],[[1,2,3],[4,5,6],[4,5,6]]])\n",
    "x\n"
   ]
  },
  {
   "cell_type": "code",
   "execution_count": 4,
   "metadata": {},
   "outputs": [
    {
     "data": {
      "text/plain": [
       "(3, 3, 3)"
      ]
     },
     "execution_count": 4,
     "metadata": {},
     "output_type": "execute_result"
    }
   ],
   "source": [
    "x.shape"
   ]
  },
  {
   "cell_type": "code",
   "execution_count": 5,
   "metadata": {},
   "outputs": [
    {
     "data": {
      "text/plain": [
       "array([1, 2, 3, 4, 5, 6, 7, 9])"
      ]
     },
     "execution_count": 5,
     "metadata": {},
     "output_type": "execute_result"
    }
   ],
   "source": [
    "np.unique(x)\n"
   ]
  },
  {
   "cell_type": "code",
   "execution_count": 124,
   "metadata": {},
   "outputs": [
    {
     "name": "stdout",
     "output_type": "stream",
     "text": [
      "4\n",
      "<class 'numpy.ndarray'>\n"
     ]
    },
    {
     "data": {
      "text/plain": [
       "'print(\"my array is:\\n\", a,\\n      \"ndim of array:\", a.ndim,\\n      \"shape of array:\", a.shape,\\n      \"data type of array:\", type(a))'"
      ]
     },
     "execution_count": 124,
     "metadata": {},
     "output_type": "execute_result"
    }
   ],
   "source": [
    "#Soru-3 Parametre olarak bir array alan ve bu arraye ilişkin boyut şekil ve veri tipi bilgisini aynı anda ekrana basan bir fonsiyon yazınız.\n",
    "\n",
    "a = np.arange(24).reshape(3,2,2,2)\n",
    "\n",
    "def dimensionType(a):\n",
    "    print(a.ndim)\n",
    "    print(type(a))\n",
    "\n",
    "dimensionType(a)\n",
    "\n",
    "\n",
    "\"\"\"print(\"my array is:\\n\", a,\n",
    "      \"ndim of array:\", a.ndim,\n",
    "      \"shape of array:\", a.shape,\n",
    "      \"data type of array:\", type(a))\"\"\"\n",
    "\n"
   ]
  },
  {
   "cell_type": "code",
   "execution_count": 128,
   "metadata": {},
   "outputs": [
    {
     "name": "stdout",
     "output_type": "stream",
     "text": [
      "[[0 1 0 1 0 1 0 1]\n",
      " [1 0 1 0 1 0 1 0]\n",
      " [0 1 0 1 0 1 0 1]\n",
      " [1 0 1 0 1 0 1 0]\n",
      " [0 1 0 1 0 1 0 1]\n",
      " [1 0 1 0 1 0 1 0]\n",
      " [0 1 0 1 0 1 0 1]\n",
      " [1 0 1 0 1 0 1 0]]\n"
     ]
    },
    {
     "data": {
      "text/plain": [
       "'array([[0, 1, 0, 1, 0, 1, 0, 1],\\n       [1, 0, 1, 0, 1, 0, 1, 0],\\n       [0, 1, 0, 1, 0, 1, 0, 1],\\n       [1, 0, 1, 0, 1, 0, 1, 0],\\n       [0, 1, 0, 1, 0, 1, 0, 1],\\n       [1, 0, 1, 0, 1, 0, 1, 0],\\n       [0, 1, 0, 1, 0, 1, 0, 1],\\n       [1, 0, 1, 0, 1, 0, 1, 0]])'"
      ]
     },
     "execution_count": 128,
     "metadata": {},
     "output_type": "execute_result"
    }
   ],
   "source": [
    "# Soru_4:   8*8 iki boyutlu ve ağaşıdaki paterni döndüren kodu yazınız.\n",
    "\n",
    "#a = np.eye(8)\n",
    "#print(a)\n",
    "\n",
    "b = np.array([1,0,1,0,1,0,1,0], dtype=int)\n",
    "\n",
    "c = np.array([0,1,0,1,0,1,0,1], dtype=int)\n",
    "\n",
    "a = np.concatenate((c,b)*4).reshape(8,8)\n",
    "\n",
    "print(a)\n",
    "\n",
    "\n",
    "# print\n",
    "\n",
    "#d = \n",
    "#print(d)\n",
    "        \n",
    "\n",
    "\n",
    "\"\"\"array([[0, 1, 0, 1, 0, 1, 0, 1],\n",
    "       [1, 0, 1, 0, 1, 0, 1, 0],\n",
    "       [0, 1, 0, 1, 0, 1, 0, 1],\n",
    "       [1, 0, 1, 0, 1, 0, 1, 0],\n",
    "       [0, 1, 0, 1, 0, 1, 0, 1],\n",
    "       [1, 0, 1, 0, 1, 0, 1, 0],\n",
    "       [0, 1, 0, 1, 0, 1, 0, 1],\n",
    "       [1, 0, 1, 0, 1, 0, 1, 0]])\"\"\"\n",
    "\n",
    "\n"
   ]
  },
  {
   "cell_type": "code",
   "execution_count": 129,
   "metadata": {},
   "outputs": [
    {
     "name": "stdout",
     "output_type": "stream",
     "text": [
      "[[ 0 10 20]\n",
      " [20 30 40]]\n",
      "(array([0, 1, 1, 1], dtype=int64), array([2, 0, 1, 2], dtype=int64))\n"
     ]
    }
   ],
   "source": [
    "# Soru_5-   yandaki dizide 10 dan büyük değerlerin indexini döndüren kodu yazınız\n",
    "x = np.array([[0, 10, 20], [20, 30, 40]]) \n",
    "print(x)\n",
    "#print(x)\n",
    "#print(x[x>10])\n",
    "#print(np.where(x[x>10]))\n",
    "#print(np.where([x>10]))\n",
    "\n",
    "result = np.where(x>10)\n",
    "print(result)\n",
    "\n",
    "\n",
    "\n",
    "\n"
   ]
  },
  {
   "cell_type": "code",
   "execution_count": 97,
   "metadata": {},
   "outputs": [
    {
     "name": "stdout",
     "output_type": "stream",
     "text": [
      "[[99 99 99 99 99]\n",
      " [99 99 99 99 99]\n",
      " [99 99 99 99 99]]\n"
     ]
    }
   ],
   "source": [
    "# soru-6-   3*5 iki boyutlu ve tüm değerlerinin 99 olduğu bir dizi döndüren kodu yazınız.\n",
    "\n",
    "print(np.full((3,5), 99))\n"
   ]
  },
  {
   "cell_type": "code",
   "execution_count": 118,
   "metadata": {},
   "outputs": [
    {
     "name": "stdout",
     "output_type": "stream",
     "text": [
      "[[[ 1.          2.04347826  3.08695652  4.13043478  5.17391304\n",
      "    6.2173913 ]\n",
      "  [ 7.26086957  8.30434783  9.34782609 10.39130435 11.43478261\n",
      "   12.47826087]]\n",
      "\n",
      " [[13.52173913 14.56521739 15.60869565 16.65217391 17.69565217\n",
      "   18.73913043]\n",
      "  [19.7826087  20.82608696 21.86956522 22.91304348 23.95652174\n",
      "   25.        ]]]\n"
     ]
    }
   ],
   "source": [
    "# soru-7  lineer artış gösteren değerleri  2*2*6 şeklinde ve üç boyutlu dizi olarak döndüren kodu yazınız.\n",
    "\n",
    "print(np.linspace(1,25, 24).reshape(2,2,6))\n",
    "\n"
   ]
  },
  {
   "cell_type": "code",
   "execution_count": 122,
   "metadata": {},
   "outputs": [
    {
     "name": "stdout",
     "output_type": "stream",
     "text": [
      "[ 6 10]\n"
     ]
    }
   ],
   "source": [
    "#soru-8  yandaki arr deki 3 ve 5 inci index değerinindeki rakamları döndüren kodu yazınız.\n",
    "x = np.array([[2, 4, 6], [6, 8, 10]], np.int32) \n",
    "print(x[(1, 1),(0, 2)])\n",
    "\n",
    "\n",
    "\n",
    "\n",
    "\n"
   ]
  },
  {
   "cell_type": "code",
   "execution_count": null,
   "metadata": {},
   "outputs": [],
   "source": []
  }
 ],
 "metadata": {
  "kernelspec": {
   "display_name": "Python 3 (ipykernel)",
   "language": "python",
   "name": "python3"
  },
  "language_info": {
   "codemirror_mode": {
    "name": "ipython",
    "version": 3
   },
   "file_extension": ".py",
   "mimetype": "text/x-python",
   "name": "python",
   "nbconvert_exporter": "python",
   "pygments_lexer": "ipython3",
   "version": "3.9.7"
  }
 },
 "nbformat": 4,
 "nbformat_minor": 4
}

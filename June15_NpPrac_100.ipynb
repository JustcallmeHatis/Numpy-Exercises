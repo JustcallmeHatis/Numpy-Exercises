{
 "cells": [
  {
   "cell_type": "markdown",
   "id": "95f61b17-f2e4-41cb-9318-8154c4cfba00",
   "metadata": {},
   "source": [
    "# Numpy Practice"
   ]
  },
  {
   "cell_type": "markdown",
   "id": "a55eed5b-725e-4f0c-ac1e-5a9e27113275",
   "metadata": {},
   "source": [
    "### 1. Import the numpy package under the name as np "
   ]
  },
  {
   "cell_type": "code",
   "execution_count": 14,
   "id": "0b5256e1-682f-430c-9308-8b58c18f9971",
   "metadata": {},
   "outputs": [],
   "source": [
    "import numpy as np\n"
   ]
  },
  {
   "cell_type": "markdown",
   "id": "0b956e8b-c012-4b7d-9fe1-be68fe668606",
   "metadata": {},
   "source": [
    "### 2. Print the numpy version and the configuration"
   ]
  },
  {
   "cell_type": "code",
   "execution_count": 15,
   "id": "9ec1de69-7c62-48e4-892e-e8d45ff70f62",
   "metadata": {},
   "outputs": [
    {
     "name": "stdout",
     "output_type": "stream",
     "text": [
      "1.20.3\n",
      "blas_mkl_info:\n",
      "    libraries = ['mkl_rt']\n",
      "    library_dirs = ['C:/Users/hatic/anaconda3\\\\Library\\\\lib']\n",
      "    define_macros = [('SCIPY_MKL_H', None), ('HAVE_CBLAS', None)]\n",
      "    include_dirs = ['C:/Users/hatic/anaconda3\\\\Library\\\\include']\n",
      "blas_opt_info:\n",
      "    libraries = ['mkl_rt']\n",
      "    library_dirs = ['C:/Users/hatic/anaconda3\\\\Library\\\\lib']\n",
      "    define_macros = [('SCIPY_MKL_H', None), ('HAVE_CBLAS', None)]\n",
      "    include_dirs = ['C:/Users/hatic/anaconda3\\\\Library\\\\include']\n",
      "lapack_mkl_info:\n",
      "    libraries = ['mkl_rt']\n",
      "    library_dirs = ['C:/Users/hatic/anaconda3\\\\Library\\\\lib']\n",
      "    define_macros = [('SCIPY_MKL_H', None), ('HAVE_CBLAS', None)]\n",
      "    include_dirs = ['C:/Users/hatic/anaconda3\\\\Library\\\\include']\n",
      "lapack_opt_info:\n",
      "    libraries = ['mkl_rt']\n",
      "    library_dirs = ['C:/Users/hatic/anaconda3\\\\Library\\\\lib']\n",
      "    define_macros = [('SCIPY_MKL_H', None), ('HAVE_CBLAS', None)]\n",
      "    include_dirs = ['C:/Users/hatic/anaconda3\\\\Library\\\\include']\n"
     ]
    }
   ],
   "source": [
    "print(np.__version__)\n",
    "np.show_config()\n"
   ]
  },
  {
   "cell_type": "markdown",
   "id": "8c171220-e212-4057-ad4c-e809ba8961fd",
   "metadata": {},
   "source": [
    "### 3. Create a null vector of size 10"
   ]
  },
  {
   "cell_type": "code",
   "execution_count": 105,
   "id": "915689c8-dc23-4eef-b258-46c6fba2efe6",
   "metadata": {},
   "outputs": [
    {
     "data": {
      "text/plain": [
       "array([0., 0., 0., 0., 0., 0., 0., 0., 0., 0.])"
      ]
     },
     "execution_count": 105,
     "metadata": {},
     "output_type": "execute_result"
    }
   ],
   "source": [
    "arr1 = np.zeros(10)\n",
    "arr1\n",
    "\n"
   ]
  },
  {
   "cell_type": "markdown",
   "id": "d79131f4-bca3-4119-8474-70b4fa814cda",
   "metadata": {},
   "source": [
    "### 4. How to get the documentation of the numpy add function from the command line?"
   ]
  },
  {
   "cell_type": "code",
   "execution_count": 107,
   "id": "1f27a4d3-2549-4a00-a6b3-a9681ae22bbf",
   "metadata": {},
   "outputs": [
    {
     "name": "stdout",
     "output_type": "stream",
     "text": [
      "add(x1, x2, /, out=None, *, where=True, casting='same_kind', order='K', dtype=None, subok=True[, signature, extobj])\n",
      "\n",
      "Add arguments element-wise.\n",
      "\n",
      "Parameters\n",
      "----------\n",
      "x1, x2 : array_like\n",
      "    The arrays to be added.\n",
      "    If ``x1.shape != x2.shape``, they must be broadcastable to a common\n",
      "    shape (which becomes the shape of the output).\n",
      "out : ndarray, None, or tuple of ndarray and None, optional\n",
      "    A location into which the result is stored. If provided, it must have\n",
      "    a shape that the inputs broadcast to. If not provided or None,\n",
      "    a freshly-allocated array is returned. A tuple (possible only as a\n",
      "    keyword argument) must have length equal to the number of outputs.\n",
      "where : array_like, optional\n",
      "    This condition is broadcast over the input. At locations where the\n",
      "    condition is True, the `out` array will be set to the ufunc result.\n",
      "    Elsewhere, the `out` array will retain its original value.\n",
      "    Note that if an uninitialized `out` array is created via the default\n",
      "    ``out=None``, locations within it where the condition is False will\n",
      "    remain uninitialized.\n",
      "**kwargs\n",
      "    For other keyword-only arguments, see the\n",
      "    :ref:`ufunc docs <ufuncs.kwargs>`.\n",
      "\n",
      "Returns\n",
      "-------\n",
      "add : ndarray or scalar\n",
      "    The sum of `x1` and `x2`, element-wise.\n",
      "    This is a scalar if both `x1` and `x2` are scalars.\n",
      "\n",
      "Notes\n",
      "-----\n",
      "Equivalent to `x1` + `x2` in terms of array broadcasting.\n",
      "\n",
      "Examples\n",
      "--------\n",
      ">>> np.add(1.0, 4.0)\n",
      "5.0\n",
      ">>> x1 = np.arange(9.0).reshape((3, 3))\n",
      ">>> x2 = np.arange(3.0)\n",
      ">>> np.add(x1, x2)\n",
      "array([[  0.,   2.,   4.],\n",
      "       [  3.,   5.,   7.],\n",
      "       [  6.,   8.,  10.]])\n",
      "\n",
      "The ``+`` operator can be used as a shorthand for ``np.add`` on ndarrays.\n",
      "\n",
      ">>> x1 = np.arange(9.0).reshape((3, 3))\n",
      ">>> x2 = np.arange(3.0)\n",
      ">>> x1 + x2\n",
      "array([[ 0.,  2.,  4.],\n",
      "       [ 3.,  5.,  7.],\n",
      "       [ 6.,  8., 10.]])\n"
     ]
    }
   ],
   "source": [
    "# np.info(np.add)\n",
    "\n",
    "# hocanin yontemi asagida\n",
    "!python -c \"import numpy;numpy.info(numpy.add)\"\n"
   ]
  },
  {
   "cell_type": "markdown",
   "id": "2891b252-a1db-4ab4-a164-47c9cce9a271",
   "metadata": {},
   "source": [
    "### 5. Create a null vector of size 10 but the fifth value which is 1"
   ]
  },
  {
   "cell_type": "code",
   "execution_count": 20,
   "id": "674290af-b1af-4b0d-bfe7-c0d48e66b90d",
   "metadata": {},
   "outputs": [
    {
     "data": {
      "text/plain": [
       "array([0., 0., 0., 0., 1., 0., 0., 0., 0., 0.])"
      ]
     },
     "execution_count": 20,
     "metadata": {},
     "output_type": "execute_result"
    }
   ],
   "source": [
    "arr2 = np.zeros(10)\n",
    "arr2[4] = 1\n",
    "arr2\n"
   ]
  },
  {
   "cell_type": "markdown",
   "id": "491e5318-b216-48d8-8f35-82cd66594408",
   "metadata": {},
   "source": [
    "### 6. Create a vector with values ranging from 10 to 49"
   ]
  },
  {
   "cell_type": "code",
   "execution_count": 27,
   "id": "b8860933-192f-4d81-94c6-a54af5255dd4",
   "metadata": {},
   "outputs": [
    {
     "data": {
      "text/plain": [
       "array([10, 11, 12, 13, 14, 15, 16, 17, 18, 19, 20, 21, 22, 23, 24, 25, 26,\n",
       "       27, 28, 29, 30, 31, 32, 33, 34, 35, 36, 37, 38, 39, 40, 41, 42, 43,\n",
       "       44, 45, 46, 47, 48, 49])"
      ]
     },
     "execution_count": 27,
     "metadata": {},
     "output_type": "execute_result"
    }
   ],
   "source": [
    "vec1 = np.arange(10, 50)\n",
    "vec1\n"
   ]
  },
  {
   "cell_type": "markdown",
   "id": "b7818669-03a5-4f61-b08f-b85b8dd94372",
   "metadata": {},
   "source": [
    "### 7. Reverse a vector (first element becomes last)"
   ]
  },
  {
   "cell_type": "code",
   "execution_count": 28,
   "id": "a323f135-4fc3-4240-b3e6-a2565535432d",
   "metadata": {},
   "outputs": [
    {
     "data": {
      "text/plain": [
       "array([49, 48, 47, 46, 45, 44, 43, 42, 41, 40, 39, 38, 37, 36, 35, 34, 33,\n",
       "       32, 31, 30, 29, 28, 27, 26, 25, 24, 23, 22, 21, 20, 19, 18, 17, 16,\n",
       "       15, 14, 13, 12, 11, 10])"
      ]
     },
     "execution_count": 28,
     "metadata": {},
     "output_type": "execute_result"
    }
   ],
   "source": [
    "vec1[::-1]\n"
   ]
  },
  {
   "cell_type": "markdown",
   "id": "5f4a94e4-596a-4c85-8356-7eb86d6cacbe",
   "metadata": {},
   "source": [
    "### 8. Create a 3x3 matrix with values ranging from 0 to 8"
   ]
  },
  {
   "cell_type": "code",
   "execution_count": 29,
   "id": "3801570d-647f-4d70-a2a6-285b0e5f2689",
   "metadata": {},
   "outputs": [
    {
     "data": {
      "text/plain": [
       "array([[0, 1, 2],\n",
       "       [3, 4, 5],\n",
       "       [6, 7, 8]])"
      ]
     },
     "execution_count": 29,
     "metadata": {},
     "output_type": "execute_result"
    }
   ],
   "source": [
    "mat1 = np.arange(0, 9).reshape(3, 3)\n",
    "mat1\n"
   ]
  },
  {
   "cell_type": "markdown",
   "id": "0df95fd1-f316-4976-849b-756f927f382c",
   "metadata": {},
   "source": [
    "### 9 Find indices of non­zero elements from [1,2,0,0,4,0]"
   ]
  },
  {
   "cell_type": "code",
   "execution_count": 30,
   "id": "63be708f-3753-4c20-83ef-a9d3c9dddad0",
   "metadata": {},
   "outputs": [
    {
     "data": {
      "text/plain": [
       "(array([0, 1, 4], dtype=int64),)"
      ]
     },
     "execution_count": 30,
     "metadata": {},
     "output_type": "execute_result"
    }
   ],
   "source": [
    "nonz = np.nonzero([1,2,0,0,4,0])\n",
    "nonz\n",
    "\n",
    "# nonzero methodu 0 olmayan degerlerin indexlerini donduruyor\n",
    "# np.where ile de yapilabilir \n",
    "# arr = np.array([1,2,0,0,4,0])\n",
    "# np.where(arr != 0)"
   ]
  },
  {
   "cell_type": "markdown",
   "id": "efc45ac3-9297-4ea0-9fd8-8534c46935e4",
   "metadata": {},
   "source": [
    "### 10. Create a 3x3 identity matrix"
   ]
  },
  {
   "cell_type": "code",
   "execution_count": 134,
   "id": "0246e20a-a812-46cc-8c53-a22ea2e70dcb",
   "metadata": {},
   "outputs": [
    {
     "data": {
      "text/plain": [
       "array([[1.],\n",
       "       [0.],\n",
       "       [0.],\n",
       "       [0.],\n",
       "       [1.],\n",
       "       [0.],\n",
       "       [0.],\n",
       "       [0.],\n",
       "       [1.]])"
      ]
     },
     "execution_count": 134,
     "metadata": {},
     "output_type": "execute_result"
    }
   ],
   "source": [
    "mat2 = np.eye(3,3)\n",
    "mat2\n",
    "\n",
    "# sadece np.eye(3) de yeterli olurdu birim matris her turlu esit satir esit sutunda olusmak zorunda old icin\n",
    "# boyut artirmak istersem reshape yeterli"
   ]
  },
  {
   "cell_type": "markdown",
   "id": "aa19488a-0613-48f3-8604-4499afe134e8",
   "metadata": {},
   "source": [
    "### 11. Create a 3x3x3 array with random values"
   ]
  },
  {
   "cell_type": "code",
   "execution_count": 150,
   "id": "a65aeb8d-a56f-4532-989e-57cb1ac56515",
   "metadata": {},
   "outputs": [
    {
     "data": {
      "text/plain": [
       "array([16.97394875, 80.89665302, 64.34059149, 51.82901296, 24.02803101,\n",
       "       11.73925588, 33.90564955, 11.54166043, 58.89405308, 96.83157617,\n",
       "       34.62921532, 97.24317588, 42.02198879, 84.84599933, 32.79965154,\n",
       "       44.55181863, 50.99467872, 92.10109972, 62.49779118, 83.02552009,\n",
       "       39.42370895, 54.92830772, 64.7033751 , 34.70325273, 34.74454469,\n",
       "       63.27869019, 13.96467115, 52.17380914, 19.70641281, 15.82182426,\n",
       "       23.95780668, 90.96980457, 65.71761741, 27.71240953, 94.68648251,\n",
       "       24.01112926, 72.27933262, 89.1998462 , 59.19936422, 79.71457223,\n",
       "       36.91367322, 56.01483477, 33.19783947, 51.85296834, 61.52611117,\n",
       "       24.71103457, 13.84527224, 81.94688942, 22.76606139, 75.77318955])"
      ]
     },
     "execution_count": 150,
     "metadata": {},
     "output_type": "execute_result"
    }
   ],
   "source": [
    "ranm = np.random.uniform(10, 100, 50)  # bunu normalde randomla yapmistim\n",
    "#rann = np.random.normal(10, 100, 50)\n",
    "ranm\n",
    "# ranc = np.random.choice([\"buyuk\", \"orta\", \"kucuk\"], 50)\n",
    "\n",
    "#ranc = np.random.random_sample()  # sample in diger random komutlari ile farkina bakabilirsin orneklem ile alakali\n",
    "# ranc = np.random.shuffle([\"buyuk\", \"orta\", \"kucuk\"])  # buraya array ya da cok boyutlu bi deger girmek lazim\n",
    "# print(ranc)\n",
    "# random un icine sadece size girebiliyoruz 0-1 araliginda kac tane sayi cekmek istedigimizi giriyoruz\n",
    "# alt deger ust deger ve size giriyorusun randint icin\n",
    "# randn normal dagilim verityor, boyut degeri giriyorsun kisaca\n",
    "# rand uniform (can egrisi) dagilimi, boyut giriyorsun\n",
    "# uniform methodu ile istedigimiz iki sayi arasinda size vererek dondurebiliyoruz\n",
    "# .normal() methodu normal dagilim yapiyor calisma stili uniform gibi\n",
    "# uniform normal dagilimli istatistiki gausstian* dagilimi can egrisi gibi \n",
    "# choice verdigin liste ya da degerden istedigin sayida deger donduruyor\n",
    "\n",
    "\n",
    "\"\"\" Emincan'in cozumu\n",
    "ranm = np.random.randint(10,100,27).reshape(3,3,3)\n",
    "print(ranm)\n",
    "\"\"\""
   ]
  },
  {
   "cell_type": "markdown",
   "id": "456bd772-149a-410a-9c86-04f1b19c6ae1",
   "metadata": {},
   "source": [
    "### 12. Create a 10x10 array with random values and find the minimum and maximum values"
   ]
  },
  {
   "cell_type": "code",
   "execution_count": 133,
   "id": "6f61350e-059d-43ef-84ce-0df10be8f76b",
   "metadata": {
    "tags": []
   },
   "outputs": [
    {
     "name": "stdout",
     "output_type": "stream",
     "text": [
      "[[0.36728195 0.8453881  0.24535936 0.51710523 0.80643963 0.61006352\n",
      "  0.03752919 0.6064157  0.5534769  0.88159646]\n",
      " [0.06193935 0.8394152  0.04893505 0.23273443 0.38317761 0.22790532\n",
      "  0.16055271 0.66701175 0.70780596 0.82738769]\n",
      " [0.37766598 0.18497249 0.49231489 0.23683052 0.04274932 0.35098726\n",
      "  0.42111341 0.78355906 0.46479405 0.44907184]\n",
      " [0.01493321 0.98742818 0.03551944 0.87343751 0.48868103 0.91453989\n",
      "  0.64472118 0.75689672 0.05841501 0.87285703]\n",
      " [0.34104041 0.76748018 0.6839017  0.20730974 0.96456411 0.67305284\n",
      "  0.36947705 0.50793333 0.07004689 0.78100284]\n",
      " [0.86868706 0.67615962 0.93197232 0.21761859 0.98478875 0.18917107\n",
      "  0.7307406  0.7513447  0.32743772 0.29649412]\n",
      " [0.44571526 0.39565831 0.87332265 0.20833338 0.88075229 0.67794252\n",
      "  0.9466313  0.08111029 0.08010084 0.82512779]\n",
      " [0.61913801 0.30229721 0.39806085 0.74167511 0.58731601 0.74197202\n",
      "  0.28739563 0.144859   0.76767508 0.19972691]\n",
      " [0.76790165 0.26186364 0.28163712 0.44248161 0.20249737 0.66127769\n",
      "  0.05950775 0.50305065 0.02601678 0.92687591]\n",
      " [0.28297774 0.03944902 0.18501575 0.11337956 0.13892896 0.9951901\n",
      "  0.51665366 0.71591711 0.11928925 0.3275685 ]]\n",
      "max: 0.9951901049551436\n",
      "min: 0.014933209933765013\n"
     ]
    }
   ],
   "source": [
    "ranm2 = np.random.random((10, 10))\n",
    "print(ranm2)\n",
    "print(\"max:\", ranm2.max())\n",
    "print(\"min:\", ranm2.min())\n",
    "\n",
    "\"\"\"\n",
    "Z = np.random.random((10,10))\n",
    "Zmin, Zmax = Z.min(), Z.max()\n",
    "print(Zmin, Zmax)\n",
    "\"\"\"\n",
    "\n",
    "\"\"\" Emincan'in cozumu:\n",
    "Z = np.random.randint(100,1000,100).reshape(10,10)\n",
    "Zmin, Zmax = Z.min(), Z.max()\n",
    "print(Zmin, Zmax)\n",
    "\"\"\""
   ]
  },
  {
   "cell_type": "code",
   "execution_count": null,
   "id": "533ebace-b566-439b-9f25-e54ed37fea01",
   "metadata": {},
   "outputs": [],
   "source": []
  },
  {
   "cell_type": "markdown",
   "id": "8cbf0c5f-e2dd-4418-b923-a52bbda70b7e",
   "metadata": {},
   "source": [
    "### 13. Create a random vector of size 30 and find the mean value"
   ]
  },
  {
   "cell_type": "code",
   "execution_count": 40,
   "id": "c5ebd977-14dc-40b8-8aa8-b52382d70cf9",
   "metadata": {},
   "outputs": [
    {
     "name": "stdout",
     "output_type": "stream",
     "text": [
      "[0.54840534 0.17516818 0.81363769 0.06498548 0.02835386 0.40942571\n",
      " 0.51855548 0.01773619 0.19075396 0.54088799 0.80836653 0.80705622\n",
      " 0.94822156 0.44429214 0.01821279 0.40924348 0.85591276 0.30421607\n",
      " 0.769181   0.71775594 0.10445585 0.53449573 0.98675861 0.21191498\n",
      " 0.56346948 0.90651785 0.52466122 0.43976002 0.54738302 0.31102729]\n",
      "0.4840270808111445\n"
     ]
    }
   ],
   "source": [
    "ran3 = np.random.random(30)\n",
    "avg = ran3.mean()\n",
    "print(ran3)\n",
    "print(avg)\n",
    "\n",
    "\"\"\" Emincan'in cozumu:\n",
    "Z = np.random.randint(50,1000,30)\n",
    "avrg = Z.mean()\n",
    "avrg\n",
    "\"\"\""
   ]
  },
  {
   "cell_type": "markdown",
   "id": "7cc5ba2a-7b21-4c76-9d9c-cd84ecb98875",
   "metadata": {},
   "source": [
    "### 14. Create a 2d array with 1 on the border and 0 inside"
   ]
  },
  {
   "cell_type": "code",
   "execution_count": 155,
   "id": "96b31ff9-a4c5-4905-831c-55ff4dc49f4f",
   "metadata": {},
   "outputs": [
    {
     "name": "stdout",
     "output_type": "stream",
     "text": [
      "[[0. 0. 0. 0. 0. 0. 0.]\n",
      " [0. 1. 1. 1. 1. 1. 0.]\n",
      " [0. 1. 1. 1. 1. 1. 0.]\n",
      " [0. 1. 1. 1. 1. 1. 0.]\n",
      " [0. 1. 1. 1. 1. 1. 0.]\n",
      " [0. 1. 1. 1. 1. 1. 0.]\n",
      " [0. 0. 0. 0. 0. 0. 0.]]\n"
     ]
    },
    {
     "data": {
      "text/plain": [
       "'Z = np.ones((5, 5))\\nZ[1:-1,1:-1] = 0\\nprint(Z)'"
      ]
     },
     "execution_count": 155,
     "metadata": {},
     "output_type": "execute_result"
    }
   ],
   "source": [
    "Z = np.ones((5,5))\n",
    "Z = np.pad(Z, pad_width=1, mode='constant', constant_values=0)\n",
    "print(Z)\n",
    "\n",
    "# Yukaridaki cozum aslinda su sorunun cevabi: How to add a border (filled with 0's) around an existing array?\n",
    "\n",
    "\n",
    "\"\"\"Z = np.ones((5, 5))\n",
    "Z[1:-1,1:-1] = 0\n",
    "print(Z)\"\"\"\n",
    "\n",
    "np.inf  # string i ya da rakami float a ceviriyor\n",
    "\n",
    "# Hoca indexli olan cozumu uyguladi\n"
   ]
  },
  {
   "cell_type": "markdown",
   "id": "92ba3003-0ed6-401f-8a9f-b488352d8a76",
   "metadata": {},
   "source": [
    "### 15. What is the result of the following expression?"
   ]
  },
  {
   "cell_type": "code",
   "execution_count": 66,
   "id": "437242c6-34e5-4b33-a807-437e9b32bfa7",
   "metadata": {},
   "outputs": [
    {
     "name": "stdout",
     "output_type": "stream",
     "text": [
      "nan\n",
      "False\n",
      "False\n",
      "nan\n",
      "True\n",
      "False\n"
     ]
    }
   ],
   "source": [
    "# Orijinal dokumandaki \"How to add a border (filled with 0's) around an existing array?\" sorusunun cevabi asagida\n",
    "\n",
    "\"\"\"Z = np.ones((5,5))\n",
    "\n",
    "Z = np.pad(Z, pad_width=1, mode='constant', constant_values=0)\n",
    "\n",
    "print(Z)\"\"\"\n",
    "\n",
    "print(0 * np.nan)\n",
    "print(np.nan == np.nan)\n",
    "print(np.inf > np.nan)\n",
    "print(np.nan - np.nan)\n",
    "print(np.nan in set([np.nan]))\n",
    "print(0.3 == 3 * 0.1)  # degerlerin tipi ile alakali bir problem olabilir\n",
    "\n",
    "# internetteki cevap yukarida, hocanin cevabini merakla bekliyoruz..\n",
    "\n",
    "# CEVAPLAMADI\n"
   ]
  },
  {
   "cell_type": "markdown",
   "id": "b0b05e7c-7eb0-486d-8b17-2a1f48b392a6",
   "metadata": {},
   "source": [
    "### 16. Create a 5x5 matrix with values 1,2,3,4 just below the diagonal"
   ]
  },
  {
   "cell_type": "code",
   "execution_count": 68,
   "id": "b87909d7-8e35-4e15-a4d9-39acf0c5bccc",
   "metadata": {},
   "outputs": [
    {
     "name": "stdout",
     "output_type": "stream",
     "text": [
      "[[0 0 0 0 0]\n",
      " [1 0 0 0 0]\n",
      " [0 2 0 0 0]\n",
      " [0 0 3 0 0]\n",
      " [0 0 0 4 0]]\n"
     ]
    }
   ],
   "source": [
    "Dia = np.diag(1 + np.arange(4), k =- 1)  # duserek gitsin diye k-1 dedik\n",
    "print(Dia)\n",
    "\n",
    "# -1 ilk satiri 0 yapiyor, +1'de ilk sutun 0 oluyor, axis ayari bu\n",
    "# dagilimi kendi ayarlamanizla alakali bir komuttur diagonal\n",
    "# parantez icine liste olarak bu rakamlari eklersen de oluyor oyle de yapanlar olmus\n",
    "# range 4'te 4 dahil olmadigi icin +1 ile basladik\n",
    "\n",
    "\"\"\" Emincan'in kodu hoca yazdi:\n",
    "Z = np.diag([1, 2, 3, 4]m k = -1)\n",
    "yukarida bahsettigim listeli olan cozum bu\n",
    "\"\"\"\n"
   ]
  },
  {
   "cell_type": "code",
   "execution_count": 157,
   "id": "8ac29ef5-9d00-44be-851b-10a07ae0fae7",
   "metadata": {},
   "outputs": [
    {
     "data": {
      "text/plain": [
       "array([[0, 0, 0, 0, 0],\n",
       "       [1, 0, 0, 0, 0],\n",
       "       [0, 2, 0, 0, 0],\n",
       "       [0, 0, 3, 0, 0],\n",
       "       [0, 0, 0, 4, 0]])"
      ]
     },
     "execution_count": 157,
     "metadata": {},
     "output_type": "execute_result"
    }
   ],
   "source": [
    "#dia = np.diag([5,1,7,9])\n",
    "dia2 = np.diag([1,2,3,4], k = -1)\n",
    "dia2\n",
    "#dia\n"
   ]
  },
  {
   "cell_type": "markdown",
   "id": "f22a8d4f-4061-46dc-96c5-f963eba56d40",
   "metadata": {},
   "source": [
    "### 17. Create a 8x8 matrix and fill it with a checkerboard pattern"
   ]
  },
  {
   "cell_type": "code",
   "execution_count": 164,
   "id": "4aa77d35-ac77-4ab1-ba83-aa62136115e7",
   "metadata": {},
   "outputs": [
    {
     "name": "stdout",
     "output_type": "stream",
     "text": [
      "[[0 1 0 1 0 1 0 1]\n",
      " [0 0 0 0 0 0 0 0]\n",
      " [0 1 0 1 0 1 0 1]\n",
      " [0 0 0 0 0 0 0 0]\n",
      " [0 1 0 1 0 1 0 1]\n",
      " [0 0 0 0 0 0 0 0]\n",
      " [0 1 0 1 0 1 0 1]\n",
      " [0 0 0 0 0 0 0 0]]\n"
     ]
    }
   ],
   "source": [
    "# checkerboard pattern'den kasit hep 1, 0, 1, 0... seklinde devam etmesi gerekiyor (gorsel olarak satranc tahtasi gibi)\n",
    "\n",
    "# https://www.geeksforgeeks.org/python-program-print-checkerboard-pattern-nxn-using-numpy/\n",
    "\n",
    "# https://stackoverflow.com/questions/2169478/how-to-make-a-checkerboard-in-numpy\n",
    "\n",
    "def checkerboard(shape):\n",
    "    return np.indices(shape).sum(axis=0) % 2\n",
    "\n",
    "shape = (8, 8)\n",
    "\n",
    "checkerboard(shape)\n",
    "\n",
    "# yukaridaki cozum stackoverflow'dan alinma, en kisa cozum, aciklamasi altinda.\n",
    "\n",
    "# kaggle'daki cozum biraz amele isi, bu fonksiyon tum checkerboardlarda calisiyor\n",
    "\n",
    "# kaggle linki: https://www.kaggle.com/code/utsav15/100-numpy-exercises/notebook\n",
    "\n",
    "# Kaggle'daki cozum\n",
    "\"\"\"Z = np.zeros((8,8),dtype=int)\n",
    "Z[1::2,::2] = 1\n",
    "Z[::2,1::2] = 1\n",
    "print(Z)\"\"\"\n",
    "\n",
    "\n",
    "# Hoca Kaggle'daki cozumu yapti"
   ]
  },
  {
   "cell_type": "code",
   "execution_count": 162,
   "id": "fdab015f-e33b-4bfc-a59c-86d6400ef8ce",
   "metadata": {},
   "outputs": [
    {
     "data": {
      "text/plain": [
       "array([[0, 1, 0, 1, 0, 1, 0, 1],\n",
       "       [1, 0, 1, 0, 1, 0, 1, 0],\n",
       "       [0, 1, 0, 1, 0, 1, 0, 1],\n",
       "       [1, 0, 1, 0, 1, 0, 1, 0],\n",
       "       [0, 1, 0, 1, 0, 1, 0, 1],\n",
       "       [1, 0, 1, 0, 1, 0, 1, 0],\n",
       "       [0, 1, 0, 1, 0, 1, 0, 1],\n",
       "       [1, 0, 1, 0, 1, 0, 1, 0]], dtype=int32)"
      ]
     },
     "execution_count": 162,
     "metadata": {},
     "output_type": "execute_result"
    }
   ],
   "source": [
    "def checkerboard(shape):\n",
    "    return np.indices(shape).sum(axis=0) % 2\n",
    "\n",
    "shape = (8, 8)\n",
    "\n",
    "checkerboard(shape)"
   ]
  },
  {
   "cell_type": "markdown",
   "id": "7d1e507f-a32d-4ed4-9235-8c1c77b45e90",
   "metadata": {},
   "source": [
    "### 18. Consider a (6,7,8) shape array, what is the index (x,y,z) of the 100th element?"
   ]
  },
  {
   "cell_type": "code",
   "execution_count": 73,
   "id": "5f4e2a3d-2846-48e9-8910-7413c895a2d6",
   "metadata": {},
   "outputs": [
    {
     "name": "stdout",
     "output_type": "stream",
     "text": [
      "(1, 5, 4)\n"
     ]
    }
   ],
   "source": [
    "print(np.unravel_index(100,(6,7,8)))\n",
    "\n",
    "# ravel = karmasik demek\n",
    "\n",
    "# hocanin aciklamasini ekle"
   ]
  },
  {
   "cell_type": "markdown",
   "id": "b2c92c26-fa3b-4022-9c71-88a27064ba1b",
   "metadata": {},
   "source": [
    "### 19. Create a checkerboard 8x8 matrix using the tile function"
   ]
  },
  {
   "cell_type": "code",
   "execution_count": 165,
   "id": "eb042c1c-190e-4d85-9af8-d03a9310d17c",
   "metadata": {},
   "outputs": [
    {
     "name": "stdout",
     "output_type": "stream",
     "text": [
      "[[0 1 0 1 0 1 0 1]\n",
      " [1 0 1 0 1 0 1 0]\n",
      " [0 1 0 1 0 1 0 1]\n",
      " [1 0 1 0 1 0 1 0]\n",
      " [0 1 0 1 0 1 0 1]\n",
      " [1 0 1 0 1 0 1 0]\n",
      " [0 1 0 1 0 1 0 1]\n",
      " [1 0 1 0 1 0 1 0]]\n"
     ]
    }
   ],
   "source": [
    "# tile fonksiyonu arraylerin tekrarindan matrix olusturuyor, geeksforgeekste makale save ettim bununla ilgili\n",
    "\n",
    "tf = np.tile(np.array([[0,1],[1,0]]), (4,4))\n",
    "print(tf)\n"
   ]
  },
  {
   "cell_type": "markdown",
   "id": "9e2f545b-ad67-4d1e-b510-8825275cd337",
   "metadata": {},
   "source": [
    "### 20. Normalize a 5x5 random matrix"
   ]
  },
  {
   "cell_type": "code",
   "execution_count": 82,
   "id": "185c7f3b-ad6d-4ca4-9e6a-959c3687f846",
   "metadata": {},
   "outputs": [
    {
     "name": "stdout",
     "output_type": "stream",
     "text": [
      "[[0.25075808 0.71158851 0.90921355 0.59082434 0.93682176]\n",
      " [0.41277502 0.63095881 0.02716778 0.84428876 0.79814282]\n",
      " [0.52515088 0.98430218 0.38526142 0.44851382 0.71891999]\n",
      " [0.78151395 0.17958275 0.97927456 0.19703414 0.16442426]\n",
      " [0.79387541 0.8535862  0.19402527 0.77513664 0.80358546]]\n",
      "normalized array:\n",
      " [[0.07573146 0.21490687 0.27459162 0.17843488 0.28292957]\n",
      " [0.1246622  0.19055589 0.00820494 0.25498368 0.24104714]\n",
      " [0.15860084 0.29726914 0.11635281 0.13545567 0.21712105]\n",
      " [0.23602506 0.05423579 0.29575075 0.05950629 0.04965778]\n",
      " [0.23975834 0.2577916  0.05859758 0.23409904 0.24269087]]\n"
     ]
    }
   ],
   "source": [
    "mtx = np.random.rand(5,5)\n",
    "print(mtx)\n",
    "norm = np.linalg.norm(mtx)\n",
    "nrmlzd = mtx / norm\n",
    "print(\"normalized array:\\n\", nrmlzd)\n",
    "\n",
    "# source: https://www.adamsmith.haus/python/answers/how-to-normalize-an-array-in-numpy-in-python\n",
    "\n",
    "\"\"\" Kaggle cozumu:\n",
    "Z = np.random.random((5,5))\n",
    "Z = (Z - np.mean (Z)) / (np.std (Z))\n",
    "print(Z)\n",
    "\"\"\"\n",
    "\n",
    "# sayinin en kucuk degeri 0, en buyuk degerinin 1 olmasi demek normalize etmek"
   ]
  },
  {
   "cell_type": "markdown",
   "id": "64d17906-719f-4155-a3d5-a42cc8fa5349",
   "metadata": {},
   "source": [
    "### 21. Multiply a 5x3 matrix by a 3x2 matrix (real matrix product)"
   ]
  },
  {
   "cell_type": "code",
   "execution_count": 90,
   "id": "a27cc31c-ba3e-4660-808c-357ddee64f30",
   "metadata": {},
   "outputs": [
    {
     "name": "stdout",
     "output_type": "stream",
     "text": [
      "[[ 10  13]\n",
      " [ 28  40]\n",
      " [ 46  67]\n",
      " [ 64  94]\n",
      " [ 82 121]]\n",
      "Alternatif cozum:\n",
      " [[ 10  13]\n",
      " [ 28  40]\n",
      " [ 46  67]\n",
      " [ 64  94]\n",
      " [ 82 121]]\n"
     ]
    }
   ],
   "source": [
    "mat53 = np.arange(15).reshape(5, 3)\n",
    "mat32 = np.arange(6).reshape(3, 2)\n",
    "\n",
    "result = mat53 @ mat32\n",
    "print(result)\n",
    "\n",
    "# Alternatif yazim:\n",
    "res = np.dot(mat53, mat32)\n",
    "print(\"Alternatif cozum:\\n\", res)\n"
   ]
  },
  {
   "cell_type": "markdown",
   "id": "b1854b8f-fa9e-492e-9d76-8ee86416e163",
   "metadata": {},
   "source": [
    "### 22. Given a 1D array, negate all elements which are between 3 and 8, in place."
   ]
  },
  {
   "cell_type": "code",
   "execution_count": 166,
   "id": "2dd6797d-f239-4101-88c8-05975a9ba896",
   "metadata": {},
   "outputs": [
    {
     "name": "stdout",
     "output_type": "stream",
     "text": [
      "[ 0  1  2  3 -4 -5 -6 -7 -8  9 10]\n"
     ]
    },
    {
     "data": {
      "text/plain": [
       "numpy.ndarray"
      ]
     },
     "execution_count": 166,
     "metadata": {},
     "output_type": "execute_result"
    }
   ],
   "source": [
    "neg = np.arange(11)\n",
    "neg[(3 < neg) & (neg <= 8)] *= -1\n",
    "print(neg)\n",
    "type(neg)\n"
   ]
  },
  {
   "cell_type": "code",
   "execution_count": 168,
   "id": "dff9f679-afc4-413d-9f2c-d07b7d10a2ed",
   "metadata": {},
   "outputs": [
    {
     "data": {
      "text/plain": [
       "numpy.ndarray"
      ]
     },
     "execution_count": 168,
     "metadata": {},
     "output_type": "execute_result"
    }
   ],
   "source": [
    "arr = np.arange(11)\n",
    "arr[3:9] *= -1\n",
    "arr\n",
    "type(arr)"
   ]
  },
  {
   "cell_type": "markdown",
   "id": "f41737d7-77b5-4905-883d-1c9a1ab78c5a",
   "metadata": {},
   "source": [
    "### 23. Extract the integer part of a random array using 5 different methods"
   ]
  },
  {
   "cell_type": "code",
   "execution_count": 92,
   "id": "73ba4563-53f9-4506-8a51-8a3b4ec9fe07",
   "metadata": {},
   "outputs": [
    {
     "name": "stdout",
     "output_type": "stream",
     "text": [
      "[9. 9. 9. 7. 1. 2. 8. 1. 5. 8.]\n",
      "[9. 9. 9. 7. 1. 2. 8. 1. 5. 8.]\n",
      "[9. 9. 9. 7. 1. 2. 8. 1. 5. 8.]\n",
      "[9 9 9 7 1 2 8 1 5 8]\n",
      "[9. 9. 9. 7. 1. 2. 8. 1. 5. 8.]\n"
     ]
    }
   ],
   "source": [
    "Z = np.random.uniform(0,10,10)\n",
    "\n",
    "print (Z - Z%1)\n",
    "print (np.floor(Z))  # zemin - tam sayi bolumunu aliyor\n",
    "print (np.ceil(Z)-1)  # float bir degeri yukari yuvarliyor\n",
    "print (Z.astype(int))  # tip degisimi yapiyor\n",
    "print (np.trunc(Z))  # muhtemelen asagi yuvarliyor\n",
    "\n",
    "# cozmedi\n"
   ]
  },
  {
   "cell_type": "markdown",
   "id": "84112298-958b-4a6c-af6d-ad36dd389041",
   "metadata": {},
   "source": [
    "### 24. How to round away from zero a float array ?"
   ]
  },
  {
   "cell_type": "code",
   "execution_count": 112,
   "id": "f5fc72a3-3add-42d2-8b69-8a66b48a9f83",
   "metadata": {},
   "outputs": [
    {
     "name": "stdout",
     "output_type": "stream",
     "text": [
      "[ 6. -7. -2. -5.  2. -4. -9.  5. -1.  8.]\n"
     ]
    }
   ],
   "source": [
    "\"\"\" Kaggle Cozumu:\n",
    "Z = np.random.uniform(-10,+10,10)\n",
    "print (np.copysign(np.ceil(np.abs(Z)), Z))\n",
    "print(Z)\"\"\"\n",
    "\n",
    "\"\"\"def round_array(x,y):  # fonksiyonu olusturmasinin sebebi array e round u rahatca uygulayabilmek icin\n",
    "    return np.round(x,y)\n",
    "\n",
    "test = np.array([32.11, 51.5, 0.112])\n",
    "print(round_array(test,0))\"\"\"\n",
    "\n",
    "# Source the code of above: https://www.projectpro.io/recipes/round-away-from-zero-float-array\n",
    "\n",
    "Z = np.random.uniform(-10,+10,10)\n",
    "print(np.trunc(Z + np.copysign(0.5, Z)))\n",
    "np.round\n",
    "\n",
    "\n",
    "\n",
    "#trunc komutu 0.5 in altiysa virgulden sonrasini 1 azalt, fazlaysa arttir gibi bu komut bu sekilde calisiyor\n"
   ]
  },
  {
   "cell_type": "code",
   "execution_count": null,
   "id": "22f8586f-cd47-4942-8a85-e71fa4e56115",
   "metadata": {},
   "outputs": [],
   "source": [
    "test = np.array([32.11, 51.5, 0.112])\n"
   ]
  },
  {
   "cell_type": "markdown",
   "id": "afc74cce-1589-434f-929e-d4f809eac34d",
   "metadata": {},
   "source": [
    "### 25. Create a 5x5 matrix with row values ranging from 0 to 4"
   ]
  },
  {
   "cell_type": "code",
   "execution_count": 97,
   "id": "973a0a7d-f6eb-4c8b-808a-586041cb27f1",
   "metadata": {},
   "outputs": [
    {
     "name": "stdout",
     "output_type": "stream",
     "text": [
      "[[0. 1. 2. 3. 4.]\n",
      " [0. 1. 2. 3. 4.]\n",
      " [0. 1. 2. 3. 4.]\n",
      " [0. 1. 2. 3. 4.]\n",
      " [0. 1. 2. 3. 4.]]\n"
     ]
    }
   ],
   "source": [
    "rowArr = np.zeros((5,5))\n",
    "rowArr += np.arange(5)\n",
    "print(rowArr)\n",
    "\n",
    "# np.full((5,5),[0,1,2,3,4]) alternatif cozum\n",
    "\n",
    "#5. range e kadar birer birer ekle"
   ]
  },
  {
   "cell_type": "markdown",
   "id": "cbea287c-b2ef-4c94-b4bc-e047ee69abd1",
   "metadata": {},
   "source": [
    "### 26. Create a vector of size 10 with values ranging from 0 to 1, both excluded"
   ]
  },
  {
   "cell_type": "code",
   "execution_count": 98,
   "id": "51e268f4-ada2-4b4b-956d-d739ff010a34",
   "metadata": {},
   "outputs": [
    {
     "name": "stdout",
     "output_type": "stream",
     "text": [
      "[0.09090909 0.18181818 0.27272727 0.36363636 0.45454545 0.54545455\n",
      " 0.63636364 0.72727273 0.81818182 0.90909091]\n"
     ]
    }
   ],
   "source": [
    "vec = np.linspace(0, 1, 11, endpoint = False)[1:]\n",
    "print(vec)\n"
   ]
  },
  {
   "cell_type": "markdown",
   "id": "1dc7d714-45a5-4bc7-a52e-37abe31bfb1f",
   "metadata": {},
   "source": [
    "### 27. Create a random vector of size 10 and sort it"
   ]
  },
  {
   "cell_type": "code",
   "execution_count": 102,
   "id": "1435eeb3-7fb1-4874-bdaf-7976ec78ec01",
   "metadata": {},
   "outputs": [
    {
     "data": {
      "text/plain": [
       "array([0.00711841, 0.25930953, 0.27821025, 0.35316916, 0.39449477,\n",
       "       0.51515332, 0.62539023, 0.69228155, 0.85099637, 0.95763312])"
      ]
     },
     "execution_count": 102,
     "metadata": {},
     "output_type": "execute_result"
    }
   ],
   "source": [
    "srtd = np.random.random(10)\n",
    "srtd.sort()\n",
    "srtd\n"
   ]
  },
  {
   "cell_type": "markdown",
   "id": "0d58bab8-cab1-4318-9405-6e54a17ac346",
   "metadata": {},
   "source": [
    "### 28. Consider two random array A anb B, check if they are equal"
   ]
  },
  {
   "cell_type": "code",
   "execution_count": 169,
   "id": "553a9e11-85c9-4dbe-8a5a-313f9a277ae9",
   "metadata": {},
   "outputs": [
    {
     "name": "stdout",
     "output_type": "stream",
     "text": [
      "True\n"
     ]
    }
   ],
   "source": [
    "A = np.random.randint(1, 2, 3)\n",
    "B = np.random.randint(1, 2, 3)\n",
    "\n",
    "eq = np.allclose(A, B, atol = 5, rtol = 5)  # atol absolute tolerans, rtol\n",
    "print(eq)\n",
    "\n",
    "# allclose birbirlerine esit olup olmadiklarini kontrol eden bir method"
   ]
  },
  {
   "cell_type": "markdown",
   "id": "a4d97065-9b0e-432d-902b-7e6a4b050a41",
   "metadata": {},
   "source": [
    "### 29. Make an array immutable (read­only)"
   ]
  },
  {
   "cell_type": "code",
   "execution_count": 114,
   "id": "8ed21204-dbb7-4967-a0cc-b1a5a8358d60",
   "metadata": {},
   "outputs": [
    {
     "ename": "ValueError",
     "evalue": "assignment destination is read-only",
     "output_type": "error",
     "traceback": [
      "\u001b[1;31m---------------------------------------------------------------------------\u001b[0m",
      "\u001b[1;31mValueError\u001b[0m                                Traceback (most recent call last)",
      "\u001b[1;32m~\\AppData\\Local\\Temp/ipykernel_5604/2272861102.py\u001b[0m in \u001b[0;36m<module>\u001b[1;34m\u001b[0m\n\u001b[0;32m      1\u001b[0m \u001b[0mZ\u001b[0m \u001b[1;33m=\u001b[0m \u001b[0mnp\u001b[0m\u001b[1;33m.\u001b[0m\u001b[0mzeros\u001b[0m\u001b[1;33m(\u001b[0m\u001b[1;36m10\u001b[0m\u001b[1;33m)\u001b[0m\u001b[1;33m\u001b[0m\u001b[1;33m\u001b[0m\u001b[0m\n\u001b[0;32m      2\u001b[0m \u001b[0mZ\u001b[0m\u001b[1;33m.\u001b[0m\u001b[0mflags\u001b[0m\u001b[1;33m.\u001b[0m\u001b[0mwriteable\u001b[0m \u001b[1;33m=\u001b[0m \u001b[1;32mFalse\u001b[0m\u001b[1;33m\u001b[0m\u001b[1;33m\u001b[0m\u001b[0m\n\u001b[1;32m----> 3\u001b[1;33m \u001b[0mZ\u001b[0m\u001b[1;33m[\u001b[0m\u001b[1;36m0\u001b[0m\u001b[1;33m]\u001b[0m \u001b[1;33m=\u001b[0m \u001b[1;36m1\u001b[0m\u001b[1;33m\u001b[0m\u001b[1;33m\u001b[0m\u001b[0m\n\u001b[0m",
      "\u001b[1;31mValueError\u001b[0m: assignment destination is read-only"
     ]
    }
   ],
   "source": [
    "Z = np.zeros(10)\n",
    "Z.flags.writeable = False\n",
    "Z[0] = 1\n",
    "\n",
    "# flags.writeable yazilabilir komutunu False a esitleyerek dosyayi readonly yapiyoruz\n"
   ]
  },
  {
   "cell_type": "markdown",
   "id": "add060d3-6cca-47eb-8a48-2b9f33227130",
   "metadata": {},
   "source": [
    "### 30. Create random vector of size 10 and replace the maximum value by 0"
   ]
  },
  {
   "cell_type": "code",
   "execution_count": 2,
   "id": "3fc805c1-5916-4b86-8a14-000c8810f31a",
   "metadata": {},
   "outputs": [
    {
     "name": "stdout",
     "output_type": "stream",
     "text": [
      "[2 7 3 2 0 5 0 5 9 4]\n"
     ]
    }
   ],
   "source": [
    "import numpy as np\n",
    "Z = np.random.randint(0, 10, 10)\n",
    "Z[Z.argmax()] = 0\n",
    "print(Z)\n",
    "\n",
    "# argmax = enyuksek sayinin indexini verir\n"
   ]
  },
  {
   "cell_type": "markdown",
   "id": "a78f921c-e745-4343-a37f-29251647e52a",
   "metadata": {},
   "source": [
    "### 31. Create a structured array with xand ycoordinates covering the [0,1]x[0,1] area"
   ]
  },
  {
   "cell_type": "code",
   "execution_count": null,
   "id": "8c32eeef-7945-4028-9d7b-d9493628e55b",
   "metadata": {},
   "outputs": [],
   "source": [
    "# bunu by gecti"
   ]
  },
  {
   "cell_type": "markdown",
   "id": "145d857c-07c2-4929-94fd-9642b85a3ccf",
   "metadata": {},
   "source": [
    "### 32. How to find the closest value (to a given scalar) in an array?"
   ]
  },
  {
   "cell_type": "code",
   "execution_count": 116,
   "id": "9389e232-5ef1-429d-8361-44da0fbb818f",
   "metadata": {},
   "outputs": [
    {
     "name": "stdout",
     "output_type": "stream",
     "text": [
      "[ 0  1  2  3  4  5  6  7  8  9 10 11 12 13 14 15 16 17 18 19 20 21 22 23\n",
      " 24 25 26 27 28 29 30 31 32 33 34 35 36 37 38 39 40 41 42 43 44 45 46 47\n",
      " 48 49 50 51 52 53 54 55 56 57 58 59 60 61 62 63 64 65 66 67 68 69 70 71\n",
      " 72 73 74 75 76 77 78 79 80 81 82 83 84 85 86 87 88 89 90 91 92 93 94 95\n",
      " 96 97 98 99]\n",
      "81.30239005580057\n",
      "81\n"
     ]
    }
   ],
   "source": [
    "Z = np.arange(100)\n",
    "print(Z)  # 0 dan 100 e kadar deger olusturdum\n",
    "v = np.random.uniform(0, 100)\n",
    "print(v)  # uniform dagilim yaptim can egrisi gibi - bir tane deger sectik\n",
    "index = (np.abs(Z - v)).argmin()  # abs - absolute - mutlak deger verdik - cikmasin diye\n",
    "print(Z[index])  # z ile v nin arasindaki farkin en az old indexi bulduk\n"
   ]
  },
  {
   "cell_type": "markdown",
   "id": "3b8f18fd-f146-40fc-b015-f4c635abf278",
   "metadata": {},
   "source": [
    "### 33. How to convert a float (32 bits) array into an integer (32 bits) in place?"
   ]
  },
  {
   "cell_type": "code",
   "execution_count": 117,
   "id": "d0700e16-74de-45e3-a02d-5707347632ba",
   "metadata": {},
   "outputs": [
    {
     "name": "stdout",
     "output_type": "stream",
     "text": [
      "[0 1 2 3 4 5 6 7 8 9]\n"
     ]
    }
   ],
   "source": [
    "Z = np.arange(10, dtype=np.float32)\n",
    "Z = Z.astype(np.int32, copy=False)\n",
    "print(Z)\n",
    "\n",
    "# astype kalici olarak degeri degistirmiyor, burada copy = False parametresi ekledigimiz icin orijinali degisiyor\n"
   ]
  },
  {
   "cell_type": "markdown",
   "id": "4f289c30-11cf-4c36-9862-652ef0a47da7",
   "metadata": {},
   "source": [
    "### 34. What is the equivalent of enumerate for numpy arrays?"
   ]
  },
  {
   "cell_type": "code",
   "execution_count": null,
   "id": "20e15e63-8576-4e60-8263-29701d097480",
   "metadata": {},
   "outputs": [],
   "source": [
    "# gostermedi"
   ]
  },
  {
   "cell_type": "markdown",
   "id": "dcffb964-4a94-471f-9773-ee4686a0a27b",
   "metadata": {},
   "source": [
    "### 35. Subtract the mean of each row of a matrix"
   ]
  },
  {
   "cell_type": "code",
   "execution_count": 118,
   "id": "838f189d-0183-41ce-b2ca-6cb1dec0e3f9",
   "metadata": {},
   "outputs": [
    {
     "name": "stdout",
     "output_type": "stream",
     "text": [
      "[[ 0.18957775  0.10448773 -0.05738223  0.08182219 -0.06876557  0.08774686\n",
      "  -0.20501832  0.06516528 -0.02897402 -0.16865967]\n",
      " [ 0.21586679 -0.16255791 -0.38021426 -0.30790784  0.03158355  0.26183768\n",
      "  -0.21019969  0.12213664  0.25592477  0.17353028]\n",
      " [ 0.05737256 -0.05983665 -0.48115808 -0.23925397 -0.0996341   0.26897771\n",
      "   0.18225085 -0.24219336  0.35055972  0.26291533]\n",
      " [ 0.06975638  0.22759074 -0.42324988  0.09535764 -0.1305602  -0.30149043\n",
      "   0.38629256  0.0295097  -0.42726783  0.47406131]\n",
      " [ 0.55992315  0.32124113 -0.28762934  0.22960047 -0.13271081 -0.27639523\n",
      "   0.13938248 -0.18997412 -0.39992123  0.0364835 ]]\n"
     ]
    }
   ],
   "source": [
    "X = np.random.rand(5, 10)\n",
    "\n",
    "# Recent versions of numpy\n",
    "Y = X - X.mean(axis=1, keepdims=True)\n",
    "\n",
    "# Older versions of numpy\n",
    "# Y = X - X.mean(axis=1).reshape(-1, 1) \n",
    "# yukaridaki (-1, 1) yaziminda mesela shape (1000, 1) ise column cikmazsa reshape(-1,1) koyuyoruz hata olmamasi icin\n",
    "\n",
    "print(Y)\n",
    "\n",
    "# keepdims boyutunu sabit tut degistirme demek oluyor True diyince, ML de de kullanacagiz!!!\n"
   ]
  },
  {
   "cell_type": "markdown",
   "id": "8828dd18-afbc-4098-9fce-e08026f7f66a",
   "metadata": {},
   "source": [
    "### 36. How to I sort an array by the nth column?"
   ]
  },
  {
   "cell_type": "code",
   "execution_count": 3,
   "id": "a8f0a5ec-5835-4436-b316-e48301888e76",
   "metadata": {},
   "outputs": [
    {
     "name": "stdout",
     "output_type": "stream",
     "text": [
      "[[7 3 2]\n",
      " [1 1 3]\n",
      " [8 6 6]]\n",
      "sorted array: \n",
      " [[1 1 3]\n",
      " [7 3 2]\n",
      " [8 6 6]]\n"
     ]
    }
   ],
   "source": [
    "z = np.random.randint(0, 10, (3, 3))\n",
    "print(z)\n",
    "print(\"sorted array: \\n\", z[z[:,1].argsort()])\n",
    "# satirlarin tamamini al, sutunlarin 1. indexini al ve onlarin hepsinin sortunu al\n",
    "# yani 1. sutuna gore indexleri duzenliyor"
   ]
  },
  {
   "cell_type": "markdown",
   "id": "09f0fe5c-4f85-4ed3-949d-12840934eba8",
   "metadata": {},
   "source": [
    "### 37. Find the nearest value from a given value in an array"
   ]
  },
  {
   "cell_type": "code",
   "execution_count": 122,
   "id": "30a40f96-a466-40ad-9ccc-403f6db0216f",
   "metadata": {},
   "outputs": [
    {
     "name": "stdout",
     "output_type": "stream",
     "text": [
      "[0.16469706 0.6635981  0.53890868 0.497444   0.0607984  0.18767184\n",
      " 0.93516649 0.30653529 0.18269895 0.475183  ]\n",
      "0.49744399681497264\n"
     ]
    }
   ],
   "source": [
    "Z = np.random.uniform(0, 1, 10)\n",
    "print(Z)\n",
    "z = 0.5\n",
    "m = Z.flat[np.abs(Z - z).argmin()]\n",
    "print(m)\n"
   ]
  },
  {
   "cell_type": "markdown",
   "id": "b8d9ef91-2bb1-4b6d-b329-27c1a1bb356a",
   "metadata": {},
   "source": [
    "### 38. Considering a four dimensions array, how to get sum over the last two axis at once?"
   ]
  },
  {
   "cell_type": "code",
   "execution_count": 14,
   "id": "9f2b2d6b-0f6b-436e-ba3e-1e4904bd00e3",
   "metadata": {},
   "outputs": [
    {
     "name": "stdout",
     "output_type": "stream",
     "text": [
      "[[48 66 56 52]\n",
      " [41 72 58 29]\n",
      " [47 59 56 58]]\n"
     ]
    }
   ],
   "source": [
    "\"\"\"A = np.random.randint(0, 10, (3, 4, 3, 4))\n",
    "# print(A)\n",
    "summ = A.reshape(A.shape[: -2] + (-1,)).sum(axis = -1)\n",
    "print(summ)\"\"\"\n",
    "\n",
    "A = np.random.randint(0,10,(3,4,3,4))\n",
    "# solution by passing a tuple of axes (introduced in numpy 1.7.0)\n",
    "sum = A.sum(axis=(-2,-1))\n",
    "print(sum)\n",
    "\n",
    "# if axis=-1 it will be the last dimension\n",
    "# axis = 0 ilk boyut \n"
   ]
  },
  {
   "cell_type": "markdown",
   "id": "9f38d823-5458-4418-aa42-024f846d1042",
   "metadata": {},
   "source": [
    "### 39. Consider an array of dimension (5,5,3), how to mulitply it by an array with dimensions (5,5)?"
   ]
  },
  {
   "cell_type": "code",
   "execution_count": 9,
   "id": "9dcb6197-2518-4081-8749-925dbde7509d",
   "metadata": {},
   "outputs": [
    {
     "name": "stdout",
     "output_type": "stream",
     "text": [
      "[[[2. 2. 2.]\n",
      "  [2. 2. 2.]\n",
      "  [2. 2. 2.]\n",
      "  [2. 2. 2.]\n",
      "  [2. 2. 2.]]\n",
      "\n",
      " [[2. 2. 2.]\n",
      "  [2. 2. 2.]\n",
      "  [2. 2. 2.]\n",
      "  [2. 2. 2.]\n",
      "  [2. 2. 2.]]\n",
      "\n",
      " [[2. 2. 2.]\n",
      "  [2. 2. 2.]\n",
      "  [2. 2. 2.]\n",
      "  [2. 2. 2.]\n",
      "  [2. 2. 2.]]\n",
      "\n",
      " [[2. 2. 2.]\n",
      "  [2. 2. 2.]\n",
      "  [2. 2. 2.]\n",
      "  [2. 2. 2.]\n",
      "  [2. 2. 2.]]\n",
      "\n",
      " [[2. 2. 2.]\n",
      "  [2. 2. 2.]\n",
      "  [2. 2. 2.]\n",
      "  [2. 2. 2.]\n",
      "  [2. 2. 2.]]]\n"
     ]
    }
   ],
   "source": [
    "A = np.ones((5, 5, 3))\n",
    "B = 2 * np.ones((5, 5))\n",
    "print(A * B[:,:, None])\n",
    "\n",
    "#Broadcasting hatasi alirsak B'nin icindeki gibi indexleme yaparak deneyelim \n"
   ]
  },
  {
   "cell_type": "markdown",
   "id": "874129d8-fe2e-41c7-aaa5-6e7578a8d6ad",
   "metadata": {},
   "source": [
    "### 40. How to swap two rows of an array?"
   ]
  },
  {
   "cell_type": "code",
   "execution_count": 12,
   "id": "0a08eb24-ee5b-477d-be92-325862ff327e",
   "metadata": {},
   "outputs": [
    {
     "name": "stdout",
     "output_type": "stream",
     "text": [
      "[[ 0  1  2  3  4]\n",
      " [ 5  6  7  8  9]\n",
      " [10 11 12 13 14]\n",
      " [15 16 17 18 19]\n",
      " [20 21 22 23 24]]\n",
      "[[ 5  6  7  8  9]\n",
      " [ 0  1  2  3  4]\n",
      " [10 11 12 13 14]\n",
      " [15 16 17 18 19]\n",
      " [20 21 22 23 24]]\n"
     ]
    }
   ],
   "source": [
    "A = np.arange(25).reshape(5, 5)\n",
    "print(A)\n",
    "A[[0, 1]] = A[[1, 0]]\n",
    "print(A)\n",
    "# A'nin 0. indexi 1. indexine esit olsun, 1. indexi de 0. indexine esit olsun diyoruz bu komutta\n"
   ]
  },
  {
   "cell_type": "markdown",
   "id": "3d99138b-91e6-4d19-9195-1f384a68063b",
   "metadata": {},
   "source": [
    "### 41. How to find the most frequent value in an array?"
   ]
  },
  {
   "cell_type": "code",
   "execution_count": 131,
   "id": "bc1dd38d-2aeb-43fc-94ad-7436c969df65",
   "metadata": {},
   "outputs": [
    {
     "name": "stdout",
     "output_type": "stream",
     "text": [
      "[8 2 5 8 6 9 1 5 1 1 3 3 7 4 2 7 3 2 9 9 9 6 7 4 9 3 5 1 4 3 7 4 5 3 3 6 0\n",
      " 0 3 3 9 2 5 0 1 7 2 4 8 5]\n",
      "3\n"
     ]
    }
   ],
   "source": [
    "z = np.random.randint(0, 10, 50)\n",
    "print(z)\n",
    "print(np.bincount(z).argmax())  # en cok tekrar eden sayinin indexi\n",
    "# np.bincount\n",
    "# kaggle cozumu\n"
   ]
  },
  {
   "cell_type": "code",
   "execution_count": 13,
   "id": "8743b29a-fc31-4ed2-ae23-ca55a77872b8",
   "metadata": {},
   "outputs": [
    {
     "name": "stdout",
     "output_type": "stream",
     "text": [
      "[7 9 3 2 4 9 9 2 3 2 2 9 5 6 8 5 0 2 2 1 2 8 9 0 8 8 9 8 1 4 3 4 7 4 5 6 8\n",
      " 5 0 8 9 9 4 6 9 5 0 0 3 6]\n",
      "2\n"
     ]
    }
   ],
   "source": [
    "z = np.random.randint(0, 10, 50)\n",
    "print(z)\n",
    "print(z[np.bincount(z).argmax()])\n",
    "# bincount kendi icerisinde listeyi sort ettikten sonra negatif olmayan her bir degerden kac tane dondurdugunu gosteriyor\n",
    "# en cok tekrar eden degeri bulmak icin biz boyle yaptik ders sonrasi calismada\n"
   ]
  },
  {
   "cell_type": "code",
   "execution_count": null,
   "id": "61daf04d-f3c9-4680-8546-83836c150756",
   "metadata": {},
   "outputs": [],
   "source": []
  }
 ],
 "metadata": {
  "kernelspec": {
   "display_name": "Python 3 (ipykernel)",
   "language": "python",
   "name": "python3"
  },
  "language_info": {
   "codemirror_mode": {
    "name": "ipython",
    "version": 3
   },
   "file_extension": ".py",
   "mimetype": "text/x-python",
   "name": "python",
   "nbconvert_exporter": "python",
   "pygments_lexer": "ipython3",
   "version": "3.9.7"
  },
  "toc-autonumbering": true,
  "toc-showcode": true,
  "toc-showmarkdowntxt": true
 },
 "nbformat": 4,
 "nbformat_minor": 5
}
